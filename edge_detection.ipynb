{
 "cells": [
  {
   "cell_type": "code",
   "execution_count": null,
   "metadata": {},
   "outputs": [],
   "source": [
    "import Roboflow\n",
    "from tensorflow.keras.models import Sequential\n",
    "from tensorflow.keras.layers import Conv2D, MaxPooling2D, Flatten, Dense\n",
    "from tensorflow.keras.optimizers import Adam\n",
    "import numpy as np\n",
    "import cv2"
   ]
  },
  {
   "cell_type": "code",
   "execution_count": null,
   "metadata": {},
   "outputs": [],
   "source": [
    "rf = Roboflow(api_key=\"hiXB6MTQOH0hlxROddmK\")\n",
    "project = rf.workspace(\"jeevan-sendur-g-workspace\").project(\"board-kzxer\")\n",
    "version = project.version(1)\n",
    "dataset = version.download(\"yolov8\")"
   ]
  },
  {
   "cell_type": "code",
   "execution_count": null,
   "metadata": {},
   "outputs": [],
   "source": [
    "# Load Dataset (Images and Annotations)\n",
    "def load_data(dataset_path):\n",
    "    images = []\n",
    "    labels = []\n",
    "    for image_file in dataset_path.glob(\"train/*.jpg\"):\n",
    "        # Load image\n",
    "        img = cv2.imread(str(image_file))\n",
    "        img = cv2.resize(img, (224, 224))  # Resize to model input size\n",
    "        images.append(img)\n",
    "        \n",
    "        # Load corresponding label\n",
    "        label_file = image_file.with_suffix(\".txt\")\n",
    "        with open(label_file, \"r\") as f:\n",
    "            label = f.read().strip()\n",
    "            labels.append(np.array([float(x) for x in label.split()]))\n",
    "    \n",
    "    return np.array(images), np.array(labels)\n",
    "\n",
    "# Prepare the dataset\n",
    "train_images, train_labels = load_data(dataset.location / \"train\")\n",
    "test_images, test_labels = load_data(dataset.location / \"test\")\n",
    "\n",
    "# Normalize images\n",
    "train_images = train_images / 255.0\n",
    "test_images = test_images / 255.0\n",
    "\n",
    "# Define a simple CNN for keypoint detection\n",
    "model = Sequential([\n",
    "    Conv2D(32, (3, 3), activation='relu', input_shape=(224, 224, 3)),\n",
    "    MaxPooling2D((2, 2)),\n",
    "    Conv2D(64, (3, 3), activation='relu'),\n",
    "    MaxPooling2D((2, 2)),\n",
    "    Conv2D(128, (3, 3), activation='relu'),\n",
    "    MaxPooling2D((2, 2)),\n",
    "    Flatten(),\n",
    "    Dense(128, activation='relu'),\n",
    "    Dense(8)  # Assuming 4 keypoints, each with (x, y)\n",
    "])\n",
    "\n",
    "# Compile the model\n",
    "model.compile(optimizer=Adam(learning_rate=0.001), loss='mse')"
   ]
  },
  {
   "cell_type": "code",
   "execution_count": null,
   "metadata": {},
   "outputs": [],
   "source": [
    "# Train the model\n",
    "model.fit(train_images, train_labels, epochs=20, validation_data=(test_images, test_labels))"
   ]
  },
  {
   "cell_type": "code",
   "execution_count": null,
   "metadata": {},
   "outputs": [],
   "source": [
    "# Save the model\n",
    "model.save(\"chessboard_edge_detection_model.h5\")"
   ]
  }
 ],
 "metadata": {
  "language_info": {
   "name": "python"
  }
 },
 "nbformat": 4,
 "nbformat_minor": 2
}
