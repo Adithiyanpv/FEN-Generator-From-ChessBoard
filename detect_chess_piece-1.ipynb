{
 "cells": [
  {
   "cell_type": "code",
   "execution_count": 1,
   "metadata": {},
   "outputs": [],
   "source": [
    "import cv2\n",
    "import matplotlib.pyplot as plt\n",
    "import matplotlib.image as image\n",
    "import numpy as np\n",
    "from tensorflow.keras.models import load_model\n",
    "\n"
   ]
  },
  {
   "cell_type": "code",
   "execution_count": 3,
   "metadata": {},
   "outputs": [],
   "source": [
    "model = load_model(\"chess_piece_classification_87_73_accuracy.h5\")"
   ]
  },
  {
   "cell_type": "code",
   "execution_count": 14,
   "metadata": {},
   "outputs": [
    {
     "name": "stdout",
     "output_type": "stream",
     "text": [
      "1/1 [==============================] - 0s 27ms/step\n",
      "White_Pawn\n"
     ]
    }
   ],
   "source": [
    "image_path = r\"test7.png\"\n",
    "image = cv2.imread(image_path, 1)\n",
    "\n",
    "image = cv2.resize(image, (180, 180))\n",
    "\n",
    "image = image/255\n",
    "\n",
    "image = np.reshape(image, (1, 180, 180, 3))\n",
    "\n",
    "pred = model.predict(image)\n",
    "\n",
    "class_label = np.argmax(pred)\n",
    "\n",
    "chess_pieces = {0: 'Black_Bishop', \n",
    "         1: 'Black_King', \n",
    "         2: 'Black_Knight', \n",
    "         3: 'Black_Pawn', \n",
    "         4: 'Black_Queen', \n",
    "         5: 'Black_Rook', \n",
    "         6: 'Blank', \n",
    "         7: 'White_Bishop', \n",
    "         8: 'White_Knight', \n",
    "         9: 'White_Pawn', \n",
    "         10: 'White_Queen', \n",
    "         11: 'White_Rook', \n",
    "         12: 'White_King'}\n",
    "\n",
    "print(chess_pieces[class_label])\n",
    "\n"
   ]
  },
  {
   "cell_type": "code",
   "execution_count": null,
   "metadata": {},
   "outputs": [],
   "source": []
  }
 ],
 "metadata": {
  "kernelspec": {
   "display_name": "Python 3",
   "language": "python",
   "name": "python3"
  },
  "language_info": {
   "codemirror_mode": {
    "name": "ipython",
    "version": 3
   },
   "file_extension": ".py",
   "mimetype": "text/x-python",
   "name": "python",
   "nbconvert_exporter": "python",
   "pygments_lexer": "ipython3",
   "version": "3.10.7"
  },
  "orig_nbformat": 4
 },
 "nbformat": 4,
 "nbformat_minor": 2
}
